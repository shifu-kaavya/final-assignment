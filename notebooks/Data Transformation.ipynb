{
 "cells": [
  {
   "cell_type": "code",
   "execution_count": 3,
   "id": "e3ed0d4d",
   "metadata": {},
   "outputs": [],
   "source": [
    "import pandas as pd"
   ]
  },
  {
   "cell_type": "code",
   "execution_count": 5,
   "id": "5fb03d12",
   "metadata": {},
   "outputs": [],
   "source": [
    "# Load data from CSV files\n",
    "df_company = pd.read_csv('dimCompany.csv')\n",
    "df_coin = pd.read_csv('dimCoin.csv')\n",
    "df_stocks = pd.read_csv('factStocks.csv')\n",
    "df_time = pd.read_csv('dimTime.csv')\n",
    "df_coins = pd.read_csv('factCoins.csv')"
   ]
  },
  {
   "cell_type": "code",
   "execution_count": 7,
   "id": "039e0633",
   "metadata": {},
   "outputs": [
    {
     "name": "stdout",
     "output_type": "stream",
     "text": [
      "Company DataFrame Columns: Index(['keyCompany', 'stockCodeCompany', 'nameCompany', 'sectorCodeCompany',\n",
      "       'sectorCompany', 'segmentCompany'],\n",
      "      dtype='object')\n",
      "Coin DataFrame Columns: Index(['keyCoin', 'abbrevCoin', 'nameCoin', 'symbolCoin'], dtype='object')\n",
      "Stocks DataFrame Columns: Index(['keyTime', 'keyCompany', 'openValueStock', 'closeValueStock',\n",
      "       'highValueStock', 'lowValueStock', 'quantityStock'],\n",
      "      dtype='object')\n",
      "Time DataFrame Columns: Index(['keyTime', 'datetime', 'dayTime', 'dayWeekTime', 'dayWeekAbbrevTime',\n",
      "       'dayWeekCompleteTime', 'monthTime', 'monthAbbrevTime',\n",
      "       'monthCompleteTime', 'bimonthTime', 'quarterTime', 'semesterTime',\n",
      "       'yearTime'],\n",
      "      dtype='object')\n",
      "Coins DataFrame Columns: Index(['keyTime', 'keyCoin', 'valueCoin'], dtype='object')\n"
     ]
    }
   ],
   "source": [
    "# Check column names\n",
    "print(\"Company DataFrame Columns:\", df_company.columns)\n",
    "print(\"Coin DataFrame Columns:\", df_coin.columns)\n",
    "print(\"Stocks DataFrame Columns:\", df_stocks.columns)\n",
    "print(\"Time DataFrame Columns:\", df_time.columns)\n",
    "print(\"Coins DataFrame Columns:\", df_coins.columns)"
   ]
  },
  {
   "cell_type": "code",
   "execution_count": 11,
   "id": "04b5f4d0",
   "metadata": {},
   "outputs": [
    {
     "name": "stdout",
     "output_type": "stream",
     "text": [
      "'coin_id' column not found in df_coin.\n"
     ]
    }
   ],
   "source": [
    "# 1. Check if 'coin_id' exists in df_coin\n",
    "if 'coin_id' in df_coin.columns:\n",
    "    # Your data transformation code here\n",
    "    merged_data = df_coins.merge(df_coin, on='coin_id')\n",
    "\n",
    "    # Display transformed data\n",
    "    print(\"Merged Data:\")\n",
    "    print(merged_data.head())\n",
    "else:\n",
    "    print(\"'coin_id' column not found in df_coin.\")"
   ]
  },
  {
   "cell_type": "code",
   "execution_count": null,
   "id": "3ef5216c",
   "metadata": {},
   "outputs": [],
   "source": []
  }
 ],
 "metadata": {
  "kernelspec": {
   "display_name": "Python 3 (ipykernel)",
   "language": "python",
   "name": "python3"
  },
  "language_info": {
   "codemirror_mode": {
    "name": "ipython",
    "version": 3
   },
   "file_extension": ".py",
   "mimetype": "text/x-python",
   "name": "python",
   "nbconvert_exporter": "python",
   "pygments_lexer": "ipython3",
   "version": "3.10.9"
  }
 },
 "nbformat": 4,
 "nbformat_minor": 5
}
