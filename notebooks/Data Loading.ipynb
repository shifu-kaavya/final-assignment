{
 "cells": [
  {
   "cell_type": "code",
   "execution_count": 14,
   "id": "e6170f66",
   "metadata": {},
   "outputs": [],
   "source": [
    "import pandas as pd"
   ]
  },
  {
   "cell_type": "code",
   "execution_count": 23,
   "id": "7b3094c9",
   "metadata": {},
   "outputs": [],
   "source": [
    "dimCompany = pd.read_csv('dimCompany.csv')\n",
    "dimCoin = pd.read_csv('dimCoin.csv')\n",
    "factStocks = pd.read_csv('factStocks.csv')\n",
    "dimTime = pd.read_csv('dimTime.csv')\n",
    "factCoins = pd.read_csv('factCoins.csv')"
   ]
  },
  {
   "cell_type": "code",
   "execution_count": 24,
   "id": "98556b17",
   "metadata": {},
   "outputs": [],
   "source": [
    "# Load data from CSV files\n",
    "factStocks_df = pd.read_csv('factStocks.csv')\n",
    "factCoins_df = pd.read_csv('factCoins.csv')"
   ]
  },
  {
   "cell_type": "code",
   "execution_count": 25,
   "id": "17a60a26",
   "metadata": {},
   "outputs": [
    {
     "name": "stdout",
     "output_type": "stream",
     "text": [
      "factStocks DataFrame:\n",
      "   keyTime  keyCompany  openValueStock  closeValueStock  highValueStock  \\\n",
      "0     1355          18           45.80             45.8            45.8   \n",
      "1     1355         107           12.15             12.6            12.6   \n",
      "2     1355         108           17.00             17.5            17.5   \n",
      "3     1355         604          299.00            299.0           299.0   \n",
      "4     1355         110           53.10             52.0            53.8   \n",
      "\n",
      "   lowValueStock  quantityStock  \n",
      "0          45.80          916.0  \n",
      "1          12.15       668420.0  \n",
      "2          16.95      3789172.0  \n",
      "3         299.00        59800.0  \n",
      "4          52.00      8331641.0  \n",
      "\n",
      "factCoins DataFrame:\n",
      "   keyTime  keyCoin  valueCoin\n",
      "0        4        1       0.94\n",
      "1        4        2       2.51\n",
      "2        5        1       0.93\n",
      "3        5        2       2.62\n",
      "4        6        1       0.92\n"
     ]
    }
   ],
   "source": [
    "# Display the first few rows of each DataFrame\n",
    "print(\"factStocks DataFrame:\")\n",
    "print(factStocks_df.head())\n",
    "\n",
    "print(\"\\nfactCoins DataFrame:\")\n",
    "print(factCoins_df.head())"
   ]
  },
  {
   "cell_type": "code",
   "execution_count": 26,
   "id": "9b42ba67",
   "metadata": {},
   "outputs": [
    {
     "name": "stdout",
     "output_type": "stream",
     "text": [
      "Info for factStocks DataFrame:\n",
      "<class 'pandas.core.frame.DataFrame'>\n",
      "RangeIndex: 680150 entries, 0 to 680149\n",
      "Data columns (total 7 columns):\n",
      " #   Column           Non-Null Count   Dtype  \n",
      "---  ------           --------------   -----  \n",
      " 0   keyTime          680150 non-null  int64  \n",
      " 1   keyCompany       680150 non-null  int64  \n",
      " 2   openValueStock   680150 non-null  float64\n",
      " 3   closeValueStock  680150 non-null  float64\n",
      " 4   highValueStock   680150 non-null  float64\n",
      " 5   lowValueStock    680150 non-null  float64\n",
      " 6   quantityStock    680150 non-null  float64\n",
      "dtypes: float64(5), int64(2)\n",
      "memory usage: 36.3 MB\n",
      "None\n",
      "\n",
      "Info for factCoins DataFrame:\n",
      "<class 'pandas.core.frame.DataFrame'>\n",
      "RangeIndex: 13302 entries, 0 to 13301\n",
      "Data columns (total 3 columns):\n",
      " #   Column     Non-Null Count  Dtype  \n",
      "---  ------     --------------  -----  \n",
      " 0   keyTime    13302 non-null  int64  \n",
      " 1   keyCoin    13302 non-null  int64  \n",
      " 2   valueCoin  13302 non-null  float64\n",
      "dtypes: float64(1), int64(2)\n",
      "memory usage: 311.9 KB\n",
      "None\n",
      "Summary statistics for factStocks DataFrame:\n",
      "             keyTime     keyCompany  openValueStock  closeValueStock  \\\n",
      "count  680150.000000  680150.000000   680150.000000    680150.000000   \n",
      "mean     7021.649195     222.343301       59.304573        59.311638   \n",
      "std      2047.282175     200.585559      197.159555       197.143236   \n",
      "min      1355.000000       1.000000        0.020000         0.020000   \n",
      "25%      5667.000000      67.000000        9.400000         9.400000   \n",
      "50%      7440.000000     128.000000       19.600000        19.600000   \n",
      "75%      8741.000000     377.000000       39.990000        40.000000   \n",
      "max      9680.000000     607.000000     9689.990000      9650.000000   \n",
      "\n",
      "       highValueStock  lowValueStock  quantityStock  \n",
      "count   680150.000000  680150.000000   6.801500e+05  \n",
      "mean        59.792621      58.784813   3.320694e+07  \n",
      "std        198.475090     195.719111   1.149834e+08  \n",
      "min          0.020000       0.020000   3.000000e+00  \n",
      "25%          9.550000       9.210000   2.136970e+05  \n",
      "50%         19.920000      19.260000   2.964298e+06  \n",
      "75%         40.500000      39.390000   2.172760e+07  \n",
      "max       9752.050000    9460.080000   1.099640e+10  \n",
      "\n",
      "Summary statistics for factCoins DataFrame:\n",
      "            keyTime       keyCoin     valueCoin\n",
      "count  13302.000000  13302.000000  13302.000000\n",
      "mean    3328.999549      1.500000      3.112467\n",
      "std     1920.049691      0.500019      1.270413\n",
      "min        4.000000      1.000000      0.830000\n",
      "25%     1666.250000      1.000000      2.160000\n",
      "50%     3329.000000      1.500000      3.140000\n",
      "75%     4991.750000      2.000000      3.850000\n",
      "max     6653.000000      2.000000      7.620000\n"
     ]
    }
   ],
   "source": [
    "# Get information about each DataFrame\n",
    "print(\"Info for factStocks DataFrame:\")\n",
    "print(factStocks_df.info())\n",
    "\n",
    "print(\"\\nInfo for factCoins DataFrame:\")\n",
    "print(factCoins_df.info())\n",
    "\n",
    "# Generate summary statistics\n",
    "print(\"Summary statistics for factStocks DataFrame:\")\n",
    "print(factStocks_df.describe())\n",
    "\n",
    "print(\"\\nSummary statistics for factCoins DataFrame:\")\n",
    "print(factCoins_df.describe())"
   ]
  },
  {
   "cell_type": "code",
   "execution_count": 12,
   "id": "24b967ce",
   "metadata": {},
   "outputs": [],
   "source": []
  },
  {
   "cell_type": "code",
   "execution_count": 13,
   "id": "9f5410f0",
   "metadata": {},
   "outputs": [],
   "source": []
  },
  {
   "cell_type": "code",
   "execution_count": null,
   "id": "ac743f27",
   "metadata": {},
   "outputs": [],
   "source": []
  }
 ],
 "metadata": {
  "kernelspec": {
   "display_name": "Python 3 (ipykernel)",
   "language": "python",
   "name": "python3"
  },
  "language_info": {
   "codemirror_mode": {
    "name": "ipython",
    "version": 3
   },
   "file_extension": ".py",
   "mimetype": "text/x-python",
   "name": "python",
   "nbconvert_exporter": "python",
   "pygments_lexer": "ipython3",
   "version": "3.10.9"
  }
 },
 "nbformat": 4,
 "nbformat_minor": 5
}
